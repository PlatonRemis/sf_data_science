{
 "cells": [
  {
   "cell_type": "code",
   "execution_count": 15,
   "metadata": {},
   "outputs": [],
   "source": [
    "from guess_the_number import guess\n",
    "from guess_the_number import random_number"
   ]
  },
  {
   "cell_type": "markdown",
   "metadata": {},
   "source": [
    "# Average and maximum number of guesses my function takes"
   ]
  },
  {
   "cell_type": "code",
   "execution_count": 37,
   "metadata": {},
   "outputs": [
    {
     "name": "stdout",
     "output_type": "stream",
     "text": [
      "Average number of attempts in 1000 iterations 5.825\n",
      "Maximum number of attempts in 1000 iterations 7\n"
     ]
    }
   ],
   "source": [
    "attempts_list = []\n",
    "# Empty list to put results of my function in\n",
    "\n",
    "for i in range(1, 1001):\n",
    "    attempts_list.append(guess(random_number()))\n",
    "# Write inside this list results of 1000 attemps\n",
    "\n",
    "print(f'Average number of attempts in 1000 iterations {sum(attempts_list) / len(attempts_list)}')\n",
    "# Demonstrating the mean of given list\n",
    "# On my machine it gives me ~5.9\n",
    "\n",
    "print(f'Maximum number of attempts in 1000 iterations {max(attempts_list)}')\n",
    "# Task was to make less then 20 attempts each time\n",
    "# Here I demonstrate that the guess() function completes the task in a maximum of 7 attempts"
   ]
  }
 ],
 "metadata": {
  "kernelspec": {
   "display_name": "Python 3.10.7 64-bit",
   "language": "python",
   "name": "python3"
  },
  "language_info": {
   "codemirror_mode": {
    "name": "ipython",
    "version": 3
   },
   "file_extension": ".py",
   "mimetype": "text/x-python",
   "name": "python",
   "nbconvert_exporter": "python",
   "pygments_lexer": "ipython3",
   "version": "3.10.7"
  },
  "orig_nbformat": 4,
  "vscode": {
   "interpreter": {
    "hash": "b4672df73fcb99710c11f03b7486863caf20cc18df33eab3e103f04c7d3bf1f5"
   }
  }
 },
 "nbformat": 4,
 "nbformat_minor": 2
}
